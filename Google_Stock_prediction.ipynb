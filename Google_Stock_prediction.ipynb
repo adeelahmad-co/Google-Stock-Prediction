{
 "cells": [
  {
   "cell_type": "code",
   "execution_count": 83,
   "metadata": {
    "colab": {},
    "colab_type": "code",
    "id": "kUcw6551Ld5E"
   },
   "outputs": [],
   "source": [
    "import numpy as np\n",
    "import matplotlib.pyplot as plt\n",
    "import pandas as pd\n",
    "from sklearn.preprocessing import StandardScaler,MinMaxScaler"
   ]
  },
  {
   "cell_type": "code",
   "execution_count": 84,
   "metadata": {
    "colab": {
     "base_uri": "https://localhost:8080/",
     "height": 204
    },
    "colab_type": "code",
    "id": "YNnUqktSLd5Q",
    "outputId": "ae3d8b89-11ff-47ad-c68f-a6e3d9163132"
   },
   "outputs": [
    {
     "data": {
      "text/html": [
       "<div>\n",
       "<style scoped>\n",
       "    .dataframe tbody tr th:only-of-type {\n",
       "        vertical-align: middle;\n",
       "    }\n",
       "\n",
       "    .dataframe tbody tr th {\n",
       "        vertical-align: top;\n",
       "    }\n",
       "\n",
       "    .dataframe thead th {\n",
       "        text-align: right;\n",
       "    }\n",
       "</style>\n",
       "<table border=\"1\" class=\"dataframe\">\n",
       "  <thead>\n",
       "    <tr style=\"text-align: right;\">\n",
       "      <th></th>\n",
       "      <th>Date</th>\n",
       "      <th>Open</th>\n",
       "      <th>High</th>\n",
       "      <th>Low</th>\n",
       "      <th>Close</th>\n",
       "      <th>Adj Close</th>\n",
       "      <th>Volume</th>\n",
       "    </tr>\n",
       "  </thead>\n",
       "  <tbody>\n",
       "    <tr>\n",
       "      <th>0</th>\n",
       "      <td>2004-08-20</td>\n",
       "      <td>50.316402</td>\n",
       "      <td>54.336334</td>\n",
       "      <td>50.062355</td>\n",
       "      <td>53.952770</td>\n",
       "      <td>53.952770</td>\n",
       "      <td>22942800</td>\n",
       "    </tr>\n",
       "    <tr>\n",
       "      <th>1</th>\n",
       "      <td>2004-08-23</td>\n",
       "      <td>55.168217</td>\n",
       "      <td>56.528118</td>\n",
       "      <td>54.321388</td>\n",
       "      <td>54.495735</td>\n",
       "      <td>54.495735</td>\n",
       "      <td>18342800</td>\n",
       "    </tr>\n",
       "    <tr>\n",
       "      <th>2</th>\n",
       "      <td>2004-08-24</td>\n",
       "      <td>55.412300</td>\n",
       "      <td>55.591629</td>\n",
       "      <td>51.591621</td>\n",
       "      <td>52.239193</td>\n",
       "      <td>52.239193</td>\n",
       "      <td>15319700</td>\n",
       "    </tr>\n",
       "    <tr>\n",
       "      <th>3</th>\n",
       "      <td>2004-08-25</td>\n",
       "      <td>52.284027</td>\n",
       "      <td>53.798351</td>\n",
       "      <td>51.746044</td>\n",
       "      <td>52.802086</td>\n",
       "      <td>52.802086</td>\n",
       "      <td>9232100</td>\n",
       "    </tr>\n",
       "    <tr>\n",
       "      <th>4</th>\n",
       "      <td>2004-08-26</td>\n",
       "      <td>52.279045</td>\n",
       "      <td>53.773445</td>\n",
       "      <td>52.134586</td>\n",
       "      <td>53.753517</td>\n",
       "      <td>53.753517</td>\n",
       "      <td>7128600</td>\n",
       "    </tr>\n",
       "  </tbody>\n",
       "</table>\n",
       "</div>"
      ],
      "text/plain": [
       "         Date       Open       High        Low      Close  Adj Close    Volume\n",
       "0  2004-08-20  50.316402  54.336334  50.062355  53.952770  53.952770  22942800\n",
       "1  2004-08-23  55.168217  56.528118  54.321388  54.495735  54.495735  18342800\n",
       "2  2004-08-24  55.412300  55.591629  51.591621  52.239193  52.239193  15319700\n",
       "3  2004-08-25  52.284027  53.798351  51.746044  52.802086  52.802086   9232100\n",
       "4  2004-08-26  52.279045  53.773445  52.134586  53.753517  53.753517   7128600"
      ]
     },
     "execution_count": 84,
     "metadata": {
      "tags": []
     },
     "output_type": "execute_result"
    }
   ],
   "source": [
    "data = pd.read_csv('/content/google.csv',date_parser=True)\n",
    "data.head()"
   ]
  },
  {
   "cell_type": "code",
   "execution_count": 85,
   "metadata": {
    "colab": {
     "base_uri": "https://localhost:8080/",
     "height": 419
    },
    "colab_type": "code",
    "id": "QuZLWEHXLd5b",
    "outputId": "fb8ee3a5-9bdd-40a7-f60a-4bdd1af4423a"
   },
   "outputs": [
    {
     "data": {
      "text/html": [
       "<div>\n",
       "<style scoped>\n",
       "    .dataframe tbody tr th:only-of-type {\n",
       "        vertical-align: middle;\n",
       "    }\n",
       "\n",
       "    .dataframe tbody tr th {\n",
       "        vertical-align: top;\n",
       "    }\n",
       "\n",
       "    .dataframe thead th {\n",
       "        text-align: right;\n",
       "    }\n",
       "</style>\n",
       "<table border=\"1\" class=\"dataframe\">\n",
       "  <thead>\n",
       "    <tr style=\"text-align: right;\">\n",
       "      <th></th>\n",
       "      <th>Date</th>\n",
       "      <th>Open</th>\n",
       "      <th>High</th>\n",
       "      <th>Low</th>\n",
       "      <th>Close</th>\n",
       "      <th>Adj Close</th>\n",
       "      <th>Volume</th>\n",
       "    </tr>\n",
       "  </thead>\n",
       "  <tbody>\n",
       "    <tr>\n",
       "      <th>0</th>\n",
       "      <td>2004-08-20</td>\n",
       "      <td>50.316402</td>\n",
       "      <td>54.336334</td>\n",
       "      <td>50.062355</td>\n",
       "      <td>53.952770</td>\n",
       "      <td>53.952770</td>\n",
       "      <td>22942800</td>\n",
       "    </tr>\n",
       "    <tr>\n",
       "      <th>1</th>\n",
       "      <td>2004-08-23</td>\n",
       "      <td>55.168217</td>\n",
       "      <td>56.528118</td>\n",
       "      <td>54.321388</td>\n",
       "      <td>54.495735</td>\n",
       "      <td>54.495735</td>\n",
       "      <td>18342800</td>\n",
       "    </tr>\n",
       "    <tr>\n",
       "      <th>2</th>\n",
       "      <td>2004-08-24</td>\n",
       "      <td>55.412300</td>\n",
       "      <td>55.591629</td>\n",
       "      <td>51.591621</td>\n",
       "      <td>52.239193</td>\n",
       "      <td>52.239193</td>\n",
       "      <td>15319700</td>\n",
       "    </tr>\n",
       "    <tr>\n",
       "      <th>3</th>\n",
       "      <td>2004-08-25</td>\n",
       "      <td>52.284027</td>\n",
       "      <td>53.798351</td>\n",
       "      <td>51.746044</td>\n",
       "      <td>52.802086</td>\n",
       "      <td>52.802086</td>\n",
       "      <td>9232100</td>\n",
       "    </tr>\n",
       "    <tr>\n",
       "      <th>4</th>\n",
       "      <td>2004-08-26</td>\n",
       "      <td>52.279045</td>\n",
       "      <td>53.773445</td>\n",
       "      <td>52.134586</td>\n",
       "      <td>53.753517</td>\n",
       "      <td>53.753517</td>\n",
       "      <td>7128600</td>\n",
       "    </tr>\n",
       "    <tr>\n",
       "      <th>...</th>\n",
       "      <td>...</td>\n",
       "      <td>...</td>\n",
       "      <td>...</td>\n",
       "      <td>...</td>\n",
       "      <td>...</td>\n",
       "      <td>...</td>\n",
       "      <td>...</td>\n",
       "    </tr>\n",
       "    <tr>\n",
       "      <th>3611</th>\n",
       "      <td>2018-12-24</td>\n",
       "      <td>973.900024</td>\n",
       "      <td>1003.539978</td>\n",
       "      <td>970.109985</td>\n",
       "      <td>976.219971</td>\n",
       "      <td>976.219971</td>\n",
       "      <td>1590300</td>\n",
       "    </tr>\n",
       "    <tr>\n",
       "      <th>3612</th>\n",
       "      <td>2018-12-26</td>\n",
       "      <td>989.010010</td>\n",
       "      <td>1040.000000</td>\n",
       "      <td>983.000000</td>\n",
       "      <td>1039.459961</td>\n",
       "      <td>1039.459961</td>\n",
       "      <td>2373300</td>\n",
       "    </tr>\n",
       "    <tr>\n",
       "      <th>3613</th>\n",
       "      <td>2018-12-27</td>\n",
       "      <td>1017.150024</td>\n",
       "      <td>1043.890015</td>\n",
       "      <td>997.000000</td>\n",
       "      <td>1043.880005</td>\n",
       "      <td>1043.880005</td>\n",
       "      <td>2109800</td>\n",
       "    </tr>\n",
       "    <tr>\n",
       "      <th>3614</th>\n",
       "      <td>2018-12-28</td>\n",
       "      <td>1049.619995</td>\n",
       "      <td>1055.560059</td>\n",
       "      <td>1033.099976</td>\n",
       "      <td>1037.079956</td>\n",
       "      <td>1037.079956</td>\n",
       "      <td>1414800</td>\n",
       "    </tr>\n",
       "    <tr>\n",
       "      <th>3615</th>\n",
       "      <td>2018-12-31</td>\n",
       "      <td>1050.959961</td>\n",
       "      <td>1052.699951</td>\n",
       "      <td>1023.590027</td>\n",
       "      <td>1035.609985</td>\n",
       "      <td>1035.609985</td>\n",
       "      <td>1493300</td>\n",
       "    </tr>\n",
       "  </tbody>\n",
       "</table>\n",
       "<p>3616 rows × 7 columns</p>\n",
       "</div>"
      ],
      "text/plain": [
       "            Date         Open         High  ...        Close    Adj Close    Volume\n",
       "0     2004-08-20    50.316402    54.336334  ...    53.952770    53.952770  22942800\n",
       "1     2004-08-23    55.168217    56.528118  ...    54.495735    54.495735  18342800\n",
       "2     2004-08-24    55.412300    55.591629  ...    52.239193    52.239193  15319700\n",
       "3     2004-08-25    52.284027    53.798351  ...    52.802086    52.802086   9232100\n",
       "4     2004-08-26    52.279045    53.773445  ...    53.753517    53.753517   7128600\n",
       "...          ...          ...          ...  ...          ...          ...       ...\n",
       "3611  2018-12-24   973.900024  1003.539978  ...   976.219971   976.219971   1590300\n",
       "3612  2018-12-26   989.010010  1040.000000  ...  1039.459961  1039.459961   2373300\n",
       "3613  2018-12-27  1017.150024  1043.890015  ...  1043.880005  1043.880005   2109800\n",
       "3614  2018-12-28  1049.619995  1055.560059  ...  1037.079956  1037.079956   1414800\n",
       "3615  2018-12-31  1050.959961  1052.699951  ...  1035.609985  1035.609985   1493300\n",
       "\n",
       "[3616 rows x 7 columns]"
      ]
     },
     "execution_count": 85,
     "metadata": {
      "tags": []
     },
     "output_type": "execute_result"
    }
   ],
   "source": [
    "data_training = data[data['Date']<'2019-01-01'].copy()\n",
    "data_training"
   ]
  },
  {
   "cell_type": "code",
   "execution_count": 86,
   "metadata": {
    "colab": {
     "base_uri": "https://localhost:8080/",
     "height": 419
    },
    "colab_type": "code",
    "id": "g9d34IgNLd5i",
    "outputId": "5681635f-852f-4092-f037-75063884aaf3"
   },
   "outputs": [
    {
     "data": {
      "text/html": [
       "<div>\n",
       "<style scoped>\n",
       "    .dataframe tbody tr th:only-of-type {\n",
       "        vertical-align: middle;\n",
       "    }\n",
       "\n",
       "    .dataframe tbody tr th {\n",
       "        vertical-align: top;\n",
       "    }\n",
       "\n",
       "    .dataframe thead th {\n",
       "        text-align: right;\n",
       "    }\n",
       "</style>\n",
       "<table border=\"1\" class=\"dataframe\">\n",
       "  <thead>\n",
       "    <tr style=\"text-align: right;\">\n",
       "      <th></th>\n",
       "      <th>Date</th>\n",
       "      <th>Open</th>\n",
       "      <th>High</th>\n",
       "      <th>Low</th>\n",
       "      <th>Close</th>\n",
       "      <th>Adj Close</th>\n",
       "      <th>Volume</th>\n",
       "    </tr>\n",
       "  </thead>\n",
       "  <tbody>\n",
       "    <tr>\n",
       "      <th>3616</th>\n",
       "      <td>2019-01-02</td>\n",
       "      <td>1016.570007</td>\n",
       "      <td>1052.319946</td>\n",
       "      <td>1015.710022</td>\n",
       "      <td>1045.849976</td>\n",
       "      <td>1045.849976</td>\n",
       "      <td>1532600</td>\n",
       "    </tr>\n",
       "    <tr>\n",
       "      <th>3617</th>\n",
       "      <td>2019-01-03</td>\n",
       "      <td>1041.000000</td>\n",
       "      <td>1056.979980</td>\n",
       "      <td>1014.070007</td>\n",
       "      <td>1016.059998</td>\n",
       "      <td>1016.059998</td>\n",
       "      <td>1841100</td>\n",
       "    </tr>\n",
       "    <tr>\n",
       "      <th>3618</th>\n",
       "      <td>2019-01-04</td>\n",
       "      <td>1032.589966</td>\n",
       "      <td>1070.839966</td>\n",
       "      <td>1027.417969</td>\n",
       "      <td>1070.709961</td>\n",
       "      <td>1070.709961</td>\n",
       "      <td>2093900</td>\n",
       "    </tr>\n",
       "    <tr>\n",
       "      <th>3619</th>\n",
       "      <td>2019-01-07</td>\n",
       "      <td>1071.500000</td>\n",
       "      <td>1074.000000</td>\n",
       "      <td>1054.760010</td>\n",
       "      <td>1068.390015</td>\n",
       "      <td>1068.390015</td>\n",
       "      <td>1981900</td>\n",
       "    </tr>\n",
       "    <tr>\n",
       "      <th>3620</th>\n",
       "      <td>2019-01-08</td>\n",
       "      <td>1076.109985</td>\n",
       "      <td>1084.560059</td>\n",
       "      <td>1060.530029</td>\n",
       "      <td>1076.280029</td>\n",
       "      <td>1076.280029</td>\n",
       "      <td>1764900</td>\n",
       "    </tr>\n",
       "    <tr>\n",
       "      <th>...</th>\n",
       "      <td>...</td>\n",
       "      <td>...</td>\n",
       "      <td>...</td>\n",
       "      <td>...</td>\n",
       "      <td>...</td>\n",
       "      <td>...</td>\n",
       "      <td>...</td>\n",
       "    </tr>\n",
       "    <tr>\n",
       "      <th>3804</th>\n",
       "      <td>2019-10-01</td>\n",
       "      <td>1219.000000</td>\n",
       "      <td>1231.229980</td>\n",
       "      <td>1203.579956</td>\n",
       "      <td>1205.099976</td>\n",
       "      <td>1205.099976</td>\n",
       "      <td>1273500</td>\n",
       "    </tr>\n",
       "    <tr>\n",
       "      <th>3805</th>\n",
       "      <td>2019-10-02</td>\n",
       "      <td>1196.979980</td>\n",
       "      <td>1196.979980</td>\n",
       "      <td>1171.290039</td>\n",
       "      <td>1176.630005</td>\n",
       "      <td>1176.630005</td>\n",
       "      <td>1615100</td>\n",
       "    </tr>\n",
       "    <tr>\n",
       "      <th>3806</th>\n",
       "      <td>2019-10-03</td>\n",
       "      <td>1180.000000</td>\n",
       "      <td>1189.060059</td>\n",
       "      <td>1162.430054</td>\n",
       "      <td>1187.829956</td>\n",
       "      <td>1187.829956</td>\n",
       "      <td>1621200</td>\n",
       "    </tr>\n",
       "    <tr>\n",
       "      <th>3807</th>\n",
       "      <td>2019-10-04</td>\n",
       "      <td>1191.890015</td>\n",
       "      <td>1211.439941</td>\n",
       "      <td>1189.170044</td>\n",
       "      <td>1209.000000</td>\n",
       "      <td>1209.000000</td>\n",
       "      <td>1162400</td>\n",
       "    </tr>\n",
       "    <tr>\n",
       "      <th>3808</th>\n",
       "      <td>2019-10-07</td>\n",
       "      <td>1204.400024</td>\n",
       "      <td>1218.203979</td>\n",
       "      <td>1203.750000</td>\n",
       "      <td>1207.680054</td>\n",
       "      <td>1207.680054</td>\n",
       "      <td>842900</td>\n",
       "    </tr>\n",
       "  </tbody>\n",
       "</table>\n",
       "<p>193 rows × 7 columns</p>\n",
       "</div>"
      ],
      "text/plain": [
       "            Date         Open         High  ...        Close    Adj Close   Volume\n",
       "3616  2019-01-02  1016.570007  1052.319946  ...  1045.849976  1045.849976  1532600\n",
       "3617  2019-01-03  1041.000000  1056.979980  ...  1016.059998  1016.059998  1841100\n",
       "3618  2019-01-04  1032.589966  1070.839966  ...  1070.709961  1070.709961  2093900\n",
       "3619  2019-01-07  1071.500000  1074.000000  ...  1068.390015  1068.390015  1981900\n",
       "3620  2019-01-08  1076.109985  1084.560059  ...  1076.280029  1076.280029  1764900\n",
       "...          ...          ...          ...  ...          ...          ...      ...\n",
       "3804  2019-10-01  1219.000000  1231.229980  ...  1205.099976  1205.099976  1273500\n",
       "3805  2019-10-02  1196.979980  1196.979980  ...  1176.630005  1176.630005  1615100\n",
       "3806  2019-10-03  1180.000000  1189.060059  ...  1187.829956  1187.829956  1621200\n",
       "3807  2019-10-04  1191.890015  1211.439941  ...  1209.000000  1209.000000  1162400\n",
       "3808  2019-10-07  1204.400024  1218.203979  ...  1207.680054  1207.680054   842900\n",
       "\n",
       "[193 rows x 7 columns]"
      ]
     },
     "execution_count": 86,
     "metadata": {
      "tags": []
     },
     "output_type": "execute_result"
    }
   ],
   "source": [
    "data_test = data[data['Date']>'2019-01-01'].copy()\n",
    "data_test"
   ]
  },
  {
   "cell_type": "code",
   "execution_count": 87,
   "metadata": {
    "colab": {
     "base_uri": "https://localhost:8080/",
     "height": 204
    },
    "colab_type": "code",
    "id": "9di-sA-3Ld5p",
    "outputId": "14a8c94b-ecd5-4322-e690-8162592c9f30"
   },
   "outputs": [
    {
     "data": {
      "text/html": [
       "<div>\n",
       "<style scoped>\n",
       "    .dataframe tbody tr th:only-of-type {\n",
       "        vertical-align: middle;\n",
       "    }\n",
       "\n",
       "    .dataframe tbody tr th {\n",
       "        vertical-align: top;\n",
       "    }\n",
       "\n",
       "    .dataframe thead th {\n",
       "        text-align: right;\n",
       "    }\n",
       "</style>\n",
       "<table border=\"1\" class=\"dataframe\">\n",
       "  <thead>\n",
       "    <tr style=\"text-align: right;\">\n",
       "      <th></th>\n",
       "      <th>Open</th>\n",
       "      <th>High</th>\n",
       "      <th>Low</th>\n",
       "      <th>Close</th>\n",
       "      <th>Volume</th>\n",
       "    </tr>\n",
       "  </thead>\n",
       "  <tbody>\n",
       "    <tr>\n",
       "      <th>0</th>\n",
       "      <td>50.316402</td>\n",
       "      <td>54.336334</td>\n",
       "      <td>50.062355</td>\n",
       "      <td>53.952770</td>\n",
       "      <td>22942800</td>\n",
       "    </tr>\n",
       "    <tr>\n",
       "      <th>1</th>\n",
       "      <td>55.168217</td>\n",
       "      <td>56.528118</td>\n",
       "      <td>54.321388</td>\n",
       "      <td>54.495735</td>\n",
       "      <td>18342800</td>\n",
       "    </tr>\n",
       "    <tr>\n",
       "      <th>2</th>\n",
       "      <td>55.412300</td>\n",
       "      <td>55.591629</td>\n",
       "      <td>51.591621</td>\n",
       "      <td>52.239193</td>\n",
       "      <td>15319700</td>\n",
       "    </tr>\n",
       "    <tr>\n",
       "      <th>3</th>\n",
       "      <td>52.284027</td>\n",
       "      <td>53.798351</td>\n",
       "      <td>51.746044</td>\n",
       "      <td>52.802086</td>\n",
       "      <td>9232100</td>\n",
       "    </tr>\n",
       "    <tr>\n",
       "      <th>4</th>\n",
       "      <td>52.279045</td>\n",
       "      <td>53.773445</td>\n",
       "      <td>52.134586</td>\n",
       "      <td>53.753517</td>\n",
       "      <td>7128600</td>\n",
       "    </tr>\n",
       "  </tbody>\n",
       "</table>\n",
       "</div>"
      ],
      "text/plain": [
       "        Open       High        Low      Close    Volume\n",
       "0  50.316402  54.336334  50.062355  53.952770  22942800\n",
       "1  55.168217  56.528118  54.321388  54.495735  18342800\n",
       "2  55.412300  55.591629  51.591621  52.239193  15319700\n",
       "3  52.284027  53.798351  51.746044  52.802086   9232100\n",
       "4  52.279045  53.773445  52.134586  53.753517   7128600"
      ]
     },
     "execution_count": 87,
     "metadata": {
      "tags": []
     },
     "output_type": "execute_result"
    }
   ],
   "source": [
    "training_data = data_training.drop(['Date','Adj Close'],axis = 1)\n",
    "training_data.head()"
   ]
  },
  {
   "cell_type": "code",
   "execution_count": 88,
   "metadata": {
    "colab": {
     "base_uri": "https://localhost:8080/",
     "height": 238
    },
    "colab_type": "code",
    "id": "PujU9rU7Ld5w",
    "outputId": "ff6d9dd8-ceec-4de9-8ca2-a88d21c86063"
   },
   "outputs": [
    {
     "data": {
      "text/plain": [
       "array([[7.42148227e-04, 2.98909923e-03, 6.47716504e-04, 3.39307537e-03,\n",
       "        2.77885613e-01],\n",
       "       [4.71386886e-03, 4.78092896e-03, 4.19769536e-03, 3.83867225e-03,\n",
       "        2.22150736e-01],\n",
       "       [4.91367646e-03, 4.01532941e-03, 1.92238659e-03, 1.98678849e-03,\n",
       "        1.85522018e-01],\n",
       "       ...,\n",
       "       [7.92197108e-01, 8.11970141e-01, 7.89936884e-01, 8.15799920e-01,\n",
       "        2.54672037e-02],\n",
       "       [8.18777193e-01, 8.21510648e-01, 8.20026849e-01, 8.10219301e-01,\n",
       "        1.70463908e-02],\n",
       "       [8.19874096e-01, 8.19172449e-01, 8.12100139e-01, 8.09012935e-01,\n",
       "        1.79975186e-02]])"
      ]
     },
     "execution_count": 88,
     "metadata": {
      "tags": []
     },
     "output_type": "execute_result"
    }
   ],
   "source": [
    "scaler = MinMaxScaler()\n",
    "training_data = scaler.fit_transform(training_data)\n",
    "training_data"
   ]
  },
  {
   "cell_type": "code",
   "execution_count": 89,
   "metadata": {
    "colab": {},
    "colab_type": "code",
    "id": "8qFVwl1fLd52"
   },
   "outputs": [],
   "source": [
    "X_train = []\n",
    "y_train = []\n",
    "\n",
    "for i in range(60,training_data.shape[0]):\n",
    "    X_train.append(training_data[i-60:i])\n",
    "    y_train.append(training_data[i,0])"
   ]
  },
  {
   "cell_type": "code",
   "execution_count": 90,
   "metadata": {
    "colab": {},
    "colab_type": "code",
    "id": "MMNKK1eRLd5_"
   },
   "outputs": [],
   "source": [
    "X_train,y_train = np.array(X_train),np.array(y_train)"
   ]
  },
  {
   "cell_type": "code",
   "execution_count": 91,
   "metadata": {
    "colab": {
     "base_uri": "https://localhost:8080/",
     "height": 34
    },
    "colab_type": "code",
    "id": "D3zceohPLd6F",
    "outputId": "da4bbf51-7b58-4893-8c33-39b8e4bcce5e"
   },
   "outputs": [
    {
     "data": {
      "text/plain": [
       "(3556, 60, 5)"
      ]
     },
     "execution_count": 91,
     "metadata": {
      "tags": []
     },
     "output_type": "execute_result"
    }
   ],
   "source": [
    "X_train.shape"
   ]
  },
  {
   "cell_type": "code",
   "execution_count": 92,
   "metadata": {
    "colab": {
     "base_uri": "https://localhost:8080/",
     "height": 34
    },
    "colab_type": "code",
    "id": "jFF-FJgALd6R",
    "outputId": "f2e9b9c6-5df0-4ddd-a400-d02dbbce85af"
   },
   "outputs": [
    {
     "data": {
      "text/plain": [
       "(3556,)"
      ]
     },
     "execution_count": 92,
     "metadata": {
      "tags": []
     },
     "output_type": "execute_result"
    }
   ],
   "source": [
    "y_train.shape"
   ]
  },
  {
   "cell_type": "code",
   "execution_count": 93,
   "metadata": {
    "colab": {},
    "colab_type": "code",
    "id": "urRfePYMLd6Y"
   },
   "outputs": [],
   "source": [
    "# Built Neural network"
   ]
  },
  {
   "cell_type": "code",
   "execution_count": 94,
   "metadata": {
    "colab": {},
    "colab_type": "code",
    "id": "pncfs1rOLd6h"
   },
   "outputs": [],
   "source": [
    "from tensorflow.keras import Sequential\n",
    "from tensorflow.keras.layers import Dense,LSTM,Dropout"
   ]
  },
  {
   "cell_type": "code",
   "execution_count": 95,
   "metadata": {
    "colab": {},
    "colab_type": "code",
    "id": "mYpxWGsqLd6p"
   },
   "outputs": [],
   "source": [
    "regresion = Sequential()\n",
    "regresion.add(LSTM(units=50,activation='relu',return_sequences=True,input_shape=(X_train.shape[1],5)))\n",
    "regresion.add(Dropout(0.2))\n",
    "\n",
    "regresion.add(LSTM(units=60,activation='relu',return_sequences=True))\n",
    "regresion.add(Dropout(0.3))\n",
    "\n",
    "regresion.add(LSTM(units=80,activation='relu',return_sequences=True))\n",
    "regresion.add(Dropout(0.4))\n",
    "\n",
    "regresion.add(LSTM(units=120,activation='relu'))\n",
    "regresion.add(Dropout(0.5))\n",
    "\n",
    "regresion.add(Dense(units=1))"
   ]
  },
  {
   "cell_type": "code",
   "execution_count": 96,
   "metadata": {
    "colab": {
     "base_uri": "https://localhost:8080/",
     "height": 459
    },
    "colab_type": "code",
    "id": "GkqRys77Ld6w",
    "outputId": "f54bd957-ac70-4c43-878e-ac0574d32f7a"
   },
   "outputs": [
    {
     "name": "stdout",
     "output_type": "stream",
     "text": [
      "Model: \"sequential_2\"\n",
      "_________________________________________________________________\n",
      "Layer (type)                 Output Shape              Param #   \n",
      "=================================================================\n",
      "lstm_10 (LSTM)               (None, 60, 50)            11200     \n",
      "_________________________________________________________________\n",
      "dropout_10 (Dropout)         (None, 60, 50)            0         \n",
      "_________________________________________________________________\n",
      "lstm_11 (LSTM)               (None, 60, 60)            26640     \n",
      "_________________________________________________________________\n",
      "dropout_11 (Dropout)         (None, 60, 60)            0         \n",
      "_________________________________________________________________\n",
      "lstm_12 (LSTM)               (None, 60, 80)            45120     \n",
      "_________________________________________________________________\n",
      "dropout_12 (Dropout)         (None, 60, 80)            0         \n",
      "_________________________________________________________________\n",
      "lstm_13 (LSTM)               (None, 120)               96480     \n",
      "_________________________________________________________________\n",
      "dropout_13 (Dropout)         (None, 120)               0         \n",
      "_________________________________________________________________\n",
      "dense_8 (Dense)              (None, 1)                 121       \n",
      "=================================================================\n",
      "Total params: 179,561\n",
      "Trainable params: 179,561\n",
      "Non-trainable params: 0\n",
      "_________________________________________________________________\n"
     ]
    }
   ],
   "source": [
    "\n",
    "regresion.summary()"
   ]
  },
  {
   "cell_type": "code",
   "execution_count": 97,
   "metadata": {
    "colab": {},
    "colab_type": "code",
    "id": "2Dv0jvKtLd62"
   },
   "outputs": [],
   "source": [
    "regresion.compile(optimizer='adam',loss='mean_squared_error')"
   ]
  },
  {
   "cell_type": "code",
   "execution_count": 98,
   "metadata": {
    "colab": {
     "base_uri": "https://localhost:8080/",
     "height": 1000
    },
    "colab_type": "code",
    "id": "1GomdJWMLd6_",
    "outputId": "c42c6c78-3ec9-481c-801c-39f9806333f5"
   },
   "outputs": [
    {
     "name": "stdout",
     "output_type": "stream",
     "text": [
      "Epoch 1/50\n",
      "112/112 [==============================] - 18s 162ms/step - loss: 0.0155\n",
      "Epoch 2/50\n",
      "112/112 [==============================] - 18s 164ms/step - loss: 0.0053\n",
      "Epoch 3/50\n",
      "112/112 [==============================] - 19s 167ms/step - loss: 0.0045\n",
      "Epoch 4/50\n",
      "112/112 [==============================] - 19s 167ms/step - loss: 0.0035\n",
      "Epoch 5/50\n",
      "112/112 [==============================] - 18s 165ms/step - loss: 0.0031\n",
      "Epoch 6/50\n",
      "112/112 [==============================] - 18s 164ms/step - loss: 0.0031\n",
      "Epoch 7/50\n",
      "112/112 [==============================] - 18s 164ms/step - loss: 0.0029\n",
      "Epoch 8/50\n",
      "112/112 [==============================] - 18s 165ms/step - loss: 0.0029\n",
      "Epoch 9/50\n",
      "112/112 [==============================] - 18s 165ms/step - loss: 0.0027\n",
      "Epoch 10/50\n",
      "112/112 [==============================] - 19s 165ms/step - loss: 0.0025\n",
      "Epoch 11/50\n",
      "112/112 [==============================] - 19s 168ms/step - loss: 0.0023\n",
      "Epoch 12/50\n",
      "112/112 [==============================] - 19s 170ms/step - loss: 0.0021\n",
      "Epoch 13/50\n",
      "112/112 [==============================] - 18s 164ms/step - loss: 0.0020\n",
      "Epoch 14/50\n",
      "112/112 [==============================] - 18s 164ms/step - loss: 0.0020\n",
      "Epoch 15/50\n",
      "112/112 [==============================] - 18s 164ms/step - loss: 0.0018\n",
      "Epoch 16/50\n",
      "112/112 [==============================] - 18s 164ms/step - loss: 0.0019\n",
      "Epoch 17/50\n",
      "112/112 [==============================] - 19s 165ms/step - loss: 0.0018\n",
      "Epoch 18/50\n",
      "112/112 [==============================] - 19s 166ms/step - loss: 0.0018\n",
      "Epoch 19/50\n",
      "112/112 [==============================] - 18s 165ms/step - loss: 0.0018\n",
      "Epoch 20/50\n",
      "112/112 [==============================] - 19s 166ms/step - loss: 0.0017\n",
      "Epoch 21/50\n",
      "112/112 [==============================] - 19s 165ms/step - loss: 0.0017\n",
      "Epoch 22/50\n",
      "112/112 [==============================] - 18s 164ms/step - loss: 0.0019\n",
      "Epoch 23/50\n",
      "112/112 [==============================] - 18s 164ms/step - loss: 0.0016\n",
      "Epoch 24/50\n",
      "112/112 [==============================] - 18s 163ms/step - loss: 0.0017\n",
      "Epoch 25/50\n",
      "112/112 [==============================] - 18s 165ms/step - loss: 0.0016\n",
      "Epoch 26/50\n",
      "112/112 [==============================] - 18s 163ms/step - loss: 0.0015\n",
      "Epoch 27/50\n",
      "112/112 [==============================] - 18s 162ms/step - loss: 0.0017\n",
      "Epoch 28/50\n",
      "112/112 [==============================] - 19s 166ms/step - loss: 0.0015\n",
      "Epoch 29/50\n",
      "112/112 [==============================] - 19s 167ms/step - loss: 0.0016\n",
      "Epoch 30/50\n",
      "112/112 [==============================] - 18s 165ms/step - loss: 0.0017\n",
      "Epoch 31/50\n",
      "112/112 [==============================] - 18s 164ms/step - loss: 0.0015\n",
      "Epoch 32/50\n",
      "112/112 [==============================] - 18s 164ms/step - loss: 0.0016\n",
      "Epoch 33/50\n",
      "112/112 [==============================] - 18s 165ms/step - loss: 0.0016\n",
      "Epoch 34/50\n",
      "112/112 [==============================] - 18s 163ms/step - loss: 0.0016\n",
      "Epoch 35/50\n",
      "112/112 [==============================] - 19s 165ms/step - loss: 0.0016\n",
      "Epoch 36/50\n",
      "112/112 [==============================] - 18s 164ms/step - loss: 0.0017\n",
      "Epoch 37/50\n",
      "112/112 [==============================] - 18s 164ms/step - loss: 0.0015\n",
      "Epoch 38/50\n",
      "112/112 [==============================] - 18s 164ms/step - loss: 0.0015\n",
      "Epoch 39/50\n",
      "112/112 [==============================] - 18s 162ms/step - loss: 0.0015\n",
      "Epoch 40/50\n",
      "112/112 [==============================] - 18s 163ms/step - loss: 0.0016\n",
      "Epoch 41/50\n",
      "112/112 [==============================] - 18s 165ms/step - loss: 0.0016\n",
      "Epoch 42/50\n",
      "112/112 [==============================] - 18s 161ms/step - loss: 0.0015\n",
      "Epoch 43/50\n",
      "112/112 [==============================] - 18s 162ms/step - loss: 0.0014\n",
      "Epoch 44/50\n",
      "112/112 [==============================] - 18s 165ms/step - loss: 0.0016\n",
      "Epoch 45/50\n",
      "112/112 [==============================] - 19s 166ms/step - loss: 0.0016\n",
      "Epoch 46/50\n",
      "112/112 [==============================] - 18s 164ms/step - loss: 0.0015\n",
      "Epoch 47/50\n",
      "112/112 [==============================] - 18s 163ms/step - loss: 0.0016\n",
      "Epoch 48/50\n",
      "112/112 [==============================] - 18s 164ms/step - loss: 0.0015\n",
      "Epoch 49/50\n",
      "112/112 [==============================] - 18s 163ms/step - loss: 0.0015\n",
      "Epoch 50/50\n",
      "112/112 [==============================] - 18s 161ms/step - loss: 0.0016\n"
     ]
    },
    {
     "data": {
      "text/plain": [
       "<tensorflow.python.keras.callbacks.History at 0x7f79524fca58>"
      ]
     },
     "execution_count": 98,
     "metadata": {
      "tags": []
     },
     "output_type": "execute_result"
    }
   ],
   "source": [
    "regresion.fit(X_train,y_train,epochs=50,batch_size=32)"
   ]
  },
  {
   "cell_type": "code",
   "execution_count": 99,
   "metadata": {
    "colab": {},
    "colab_type": "code",
    "id": "K9rGvhw1Ld7E"
   },
   "outputs": [],
   "source": [
    "## prepare test dataset"
   ]
  },
  {
   "cell_type": "code",
   "execution_count": 100,
   "metadata": {
    "colab": {},
    "colab_type": "code",
    "id": "bI1wVk8bLd7O"
   },
   "outputs": [],
   "source": [
    "past_60_days = data_training.tail(60)"
   ]
  },
  {
   "cell_type": "code",
   "execution_count": 101,
   "metadata": {
    "colab": {
     "base_uri": "https://localhost:8080/",
     "height": 204
    },
    "colab_type": "code",
    "id": "_Ofq4C3kLd7W",
    "outputId": "79bbd885-014b-4d6c-8d22-4482fc579473"
   },
   "outputs": [
    {
     "data": {
      "text/html": [
       "<div>\n",
       "<style scoped>\n",
       "    .dataframe tbody tr th:only-of-type {\n",
       "        vertical-align: middle;\n",
       "    }\n",
       "\n",
       "    .dataframe tbody tr th {\n",
       "        vertical-align: top;\n",
       "    }\n",
       "\n",
       "    .dataframe thead th {\n",
       "        text-align: right;\n",
       "    }\n",
       "</style>\n",
       "<table border=\"1\" class=\"dataframe\">\n",
       "  <thead>\n",
       "    <tr style=\"text-align: right;\">\n",
       "      <th></th>\n",
       "      <th>Open</th>\n",
       "      <th>High</th>\n",
       "      <th>Low</th>\n",
       "      <th>Close</th>\n",
       "      <th>Volume</th>\n",
       "    </tr>\n",
       "  </thead>\n",
       "  <tbody>\n",
       "    <tr>\n",
       "      <th>0</th>\n",
       "      <td>1195.329956</td>\n",
       "      <td>1197.510010</td>\n",
       "      <td>1155.576050</td>\n",
       "      <td>1168.189941</td>\n",
       "      <td>2209500</td>\n",
       "    </tr>\n",
       "    <tr>\n",
       "      <th>1</th>\n",
       "      <td>1167.500000</td>\n",
       "      <td>1173.500000</td>\n",
       "      <td>1145.119995</td>\n",
       "      <td>1157.349976</td>\n",
       "      <td>1184300</td>\n",
       "    </tr>\n",
       "    <tr>\n",
       "      <th>2</th>\n",
       "      <td>1150.109985</td>\n",
       "      <td>1168.000000</td>\n",
       "      <td>1127.364014</td>\n",
       "      <td>1148.969971</td>\n",
       "      <td>1932400</td>\n",
       "    </tr>\n",
       "    <tr>\n",
       "      <th>3</th>\n",
       "      <td>1146.150024</td>\n",
       "      <td>1154.349976</td>\n",
       "      <td>1137.572021</td>\n",
       "      <td>1138.819946</td>\n",
       "      <td>1308700</td>\n",
       "    </tr>\n",
       "    <tr>\n",
       "      <th>4</th>\n",
       "      <td>1131.079956</td>\n",
       "      <td>1132.170044</td>\n",
       "      <td>1081.130005</td>\n",
       "      <td>1081.219971</td>\n",
       "      <td>2675700</td>\n",
       "    </tr>\n",
       "  </tbody>\n",
       "</table>\n",
       "</div>"
      ],
      "text/plain": [
       "          Open         High          Low        Close   Volume\n",
       "0  1195.329956  1197.510010  1155.576050  1168.189941  2209500\n",
       "1  1167.500000  1173.500000  1145.119995  1157.349976  1184300\n",
       "2  1150.109985  1168.000000  1127.364014  1148.969971  1932400\n",
       "3  1146.150024  1154.349976  1137.572021  1138.819946  1308700\n",
       "4  1131.079956  1132.170044  1081.130005  1081.219971  2675700"
      ]
     },
     "execution_count": 101,
     "metadata": {
      "tags": []
     },
     "output_type": "execute_result"
    }
   ],
   "source": [
    "df = past_60_days.append(data_test,ignore_index=True)\n",
    "df = df.drop(['Date','Adj Close'],axis = 1)\n",
    "df.head()"
   ]
  },
  {
   "cell_type": "code",
   "execution_count": 102,
   "metadata": {
    "colab": {
     "base_uri": "https://localhost:8080/",
     "height": 34
    },
    "colab_type": "code",
    "id": "df1SqJM8Ld7b",
    "outputId": "3ad9f197-aecf-4fff-c164-8a6dbdcb5824"
   },
   "outputs": [
    {
     "data": {
      "text/plain": [
       "253"
      ]
     },
     "execution_count": 102,
     "metadata": {
      "tags": []
     },
     "output_type": "execute_result"
    }
   ],
   "source": [
    "inputs = scaler.transform(df)\n",
    "len(inputs)"
   ]
  },
  {
   "cell_type": "code",
   "execution_count": 103,
   "metadata": {
    "colab": {
     "base_uri": "https://localhost:8080/",
     "height": 1000
    },
    "colab_type": "code",
    "id": "auDLBzA3Ld7k",
    "outputId": "f1c3e1e4-9003-4206-b162-cb4578f64d97"
   },
   "outputs": [
    {
     "name": "stdout",
     "output_type": "stream",
     "text": [
      "60\n",
      "61\n",
      "62\n",
      "63\n",
      "64\n",
      "65\n",
      "66\n",
      "67\n",
      "68\n",
      "69\n",
      "70\n",
      "71\n",
      "72\n",
      "73\n",
      "74\n",
      "75\n",
      "76\n",
      "77\n",
      "78\n",
      "79\n",
      "80\n",
      "81\n",
      "82\n",
      "83\n",
      "84\n",
      "85\n",
      "86\n",
      "87\n",
      "88\n",
      "89\n",
      "90\n",
      "91\n",
      "92\n",
      "93\n",
      "94\n",
      "95\n",
      "96\n",
      "97\n",
      "98\n",
      "99\n",
      "100\n",
      "101\n",
      "102\n",
      "103\n",
      "104\n",
      "105\n",
      "106\n",
      "107\n",
      "108\n",
      "109\n",
      "110\n",
      "111\n",
      "112\n",
      "113\n",
      "114\n",
      "115\n",
      "116\n",
      "117\n",
      "118\n",
      "119\n",
      "120\n",
      "121\n",
      "122\n",
      "123\n",
      "124\n",
      "125\n",
      "126\n",
      "127\n",
      "128\n",
      "129\n",
      "130\n",
      "131\n",
      "132\n",
      "133\n",
      "134\n",
      "135\n",
      "136\n",
      "137\n",
      "138\n",
      "139\n",
      "140\n",
      "141\n",
      "142\n",
      "143\n",
      "144\n",
      "145\n",
      "146\n",
      "147\n",
      "148\n",
      "149\n",
      "150\n",
      "151\n",
      "152\n",
      "153\n",
      "154\n",
      "155\n",
      "156\n",
      "157\n",
      "158\n",
      "159\n",
      "160\n",
      "161\n",
      "162\n",
      "163\n",
      "164\n",
      "165\n",
      "166\n",
      "167\n",
      "168\n",
      "169\n",
      "170\n",
      "171\n",
      "172\n",
      "173\n",
      "174\n",
      "175\n",
      "176\n",
      "177\n",
      "178\n",
      "179\n",
      "180\n",
      "181\n",
      "182\n",
      "183\n",
      "184\n",
      "185\n",
      "186\n",
      "187\n",
      "188\n",
      "189\n",
      "190\n",
      "191\n",
      "192\n",
      "193\n",
      "194\n",
      "195\n",
      "196\n",
      "197\n",
      "198\n",
      "199\n",
      "200\n",
      "201\n",
      "202\n",
      "203\n",
      "204\n",
      "205\n",
      "206\n",
      "207\n",
      "208\n",
      "209\n",
      "210\n",
      "211\n",
      "212\n",
      "213\n",
      "214\n",
      "215\n",
      "216\n",
      "217\n",
      "218\n",
      "219\n",
      "220\n",
      "221\n",
      "222\n",
      "223\n",
      "224\n",
      "225\n",
      "226\n",
      "227\n",
      "228\n",
      "229\n",
      "230\n",
      "231\n",
      "232\n",
      "233\n",
      "234\n",
      "235\n",
      "236\n",
      "237\n",
      "238\n",
      "239\n",
      "240\n",
      "241\n",
      "242\n",
      "243\n",
      "244\n",
      "245\n",
      "246\n",
      "247\n",
      "248\n",
      "249\n",
      "250\n",
      "251\n",
      "252\n"
     ]
    }
   ],
   "source": [
    "X_test = []\n",
    "y_test = []\n",
    "\n",
    "for i in range(60,inputs.shape[0]):\n",
    "    print(i)\n",
    "    X_test.append(inputs[i-60:i])\n",
    "    y_test.append(inputs[i,0])"
   ]
  },
  {
   "cell_type": "code",
   "execution_count": 103,
   "metadata": {
    "colab": {},
    "colab_type": "code",
    "id": "n4-SKsAQsfUw"
   },
   "outputs": [],
   "source": []
  },
  {
   "cell_type": "code",
   "execution_count": 104,
   "metadata": {
    "colab": {
     "base_uri": "https://localhost:8080/",
     "height": 34
    },
    "colab_type": "code",
    "id": "7YNT9RYmLd7p",
    "outputId": "9aba02df-0fcf-43da-807a-d6302655c76e"
   },
   "outputs": [
    {
     "data": {
      "text/plain": [
       "((193, 60, 5), (193,))"
      ]
     },
     "execution_count": 104,
     "metadata": {
      "tags": []
     },
     "output_type": "execute_result"
    }
   ],
   "source": [
    "X_test,y_test = np.array(X_test),np.array(y_test)\n",
    "X_test.shape,y_test.shape"
   ]
  },
  {
   "cell_type": "code",
   "execution_count": 129,
   "metadata": {
    "colab": {},
    "colab_type": "code",
    "id": "edGkV1WdLd7x"
   },
   "outputs": [],
   "source": [
    "y_pred = regresion.predict(X_test)"
   ]
  },
  {
   "cell_type": "code",
   "execution_count": 130,
   "metadata": {
    "colab": {
     "base_uri": "https://localhost:8080/",
     "height": 51
    },
    "colab_type": "code",
    "id": "4mNVM2w5Ld73",
    "outputId": "ff39138e-f0dc-4cb1-8b18-a4eaa1b041b9"
   },
   "outputs": [
    {
     "data": {
      "text/plain": [
       "array([8.18605127e-04, 8.17521128e-04, 8.33517573e-04, 8.20673293e-04,\n",
       "       1.21162775e-08])"
      ]
     },
     "execution_count": 130,
     "metadata": {
      "tags": []
     },
     "output_type": "execute_result"
    }
   ],
   "source": [
    "scaler.scale_"
   ]
  },
  {
   "cell_type": "code",
   "execution_count": 131,
   "metadata": {
    "colab": {
     "base_uri": "https://localhost:8080/",
     "height": 34
    },
    "colab_type": "code",
    "id": "0qjwyhaJLd7_",
    "outputId": "ee8a42d4-1473-4e06-86ee-582f501efabc"
   },
   "outputs": [
    {
     "data": {
      "text/plain": [
       "1221.5901990069017"
      ]
     },
     "execution_count": 131,
     "metadata": {
      "tags": []
     },
     "output_type": "execute_result"
    }
   ],
   "source": [
    "scale = 1/8.18605127e-04\n",
    "scale"
   ]
  },
  {
   "cell_type": "code",
   "execution_count": 132,
   "metadata": {
    "colab": {},
    "colab_type": "code",
    "id": "q6BKcowcLd8J"
   },
   "outputs": [],
   "source": [
    "y_pred = y_pred*scale\n",
    "y_test = y_test*scale"
   ]
  },
  {
   "cell_type": "code",
   "execution_count": 109,
   "metadata": {
    "colab": {},
    "colab_type": "code",
    "id": "iXFv-yu9Ld8N"
   },
   "outputs": [],
   "source": [
    "# Vissulization"
   ]
  },
  {
   "cell_type": "code",
   "execution_count": 110,
   "metadata": {
    "colab": {
     "base_uri": "https://localhost:8080/",
     "height": 350
    },
    "colab_type": "code",
    "id": "OuNl_KlyLd8U",
    "outputId": "cddf8dcc-f62d-4555-ed74-82100de8d86b"
   },
   "outputs": [
    {
     "data": {
      "image/png": "[encoded data removed]",
      "text/plain": [
       "<Figure size 1008x360 with 1 Axes>"
      ]
     },
     "metadata": {
      "needs_background": "light",
      "tags": []
     },
     "output_type": "display_data"
    }
   ],
   "source": [
    "plt.figure(figsize=(14,5))\n",
    "plt.plot(y_test,color = 'red',label='Real Google Stock price')\n",
    "plt.plot(y_pred,color = 'blue',label='Predictid Google Stock price')\n",
    "plt.title('Google Stock price')\n",
    "plt.xlabel('Time')\n",
    "plt.ylabel('Google stock price')\n",
    "plt.legend()\n",
    "plt.savefig('google.png')\n",
    "plt.show()"
   ]
  }
 ],
 "metadata": {
  "colab": {
   "name": "Google Stock prediction.ipynb",
   "provenance": []
  },
  "kernelspec": {
   "display_name": "Python 3",
   "language": "python",
   "name": "python3"
  },
  "language_info": {
   "codemirror_mode": {
    "name": "ipython",
    "version": 3
   },
   "file_extension": ".py",
   "mimetype": "text/x-python",
   "name": "python",
   "nbconvert_exporter": "python",
   "pygments_lexer": "ipython3",
   "version": "3.7.4"
  }
 },
 "nbformat": 4,
 "nbformat_minor": 4
}
